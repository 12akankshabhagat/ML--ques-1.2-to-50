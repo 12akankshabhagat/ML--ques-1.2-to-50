{
 "cells": [
  {
   "cell_type": "code",
   "execution_count": null,
   "id": "6ae00345-19d2-4de8-bcd2-bcf0de38862c",
   "metadata": {},
   "outputs": [],
   "source": [
    "https://onedrive.live.com/edit?id=3F95B619CB5B7919!s9a1510a4d7df4a9a96037169ae2c324a&resid=3F95B619CB5B7919!s9a1510a4d7df4a9a96037169ae2c324a&cid=3f95b619cb5b7919&ithint=file%2Cdocx&redeem=aHR0cHM6Ly8xZHJ2Lm1zL3cvYy8zZjk1YjYxOWNiNWI3OTE5L0VhUVFGWnJmMTVwS2xnTnhhYTRzTWtvQkNzMDU5OTdON0NCTjA4U0ptRldXQUE&migratedtospo=true&wdo=2"
   ]
  },
  {
   "cell_type": "code",
   "execution_count": null,
   "id": "44e6ae4f-28e1-4373-a88d-2ad5807031e1",
   "metadata": {},
   "outputs": [],
   "source": [
    "https://onedrive.live.com/edit?id=3F95B619CB5B7919!s9a1510a4d7df4a9a96037169ae2c324a&resid=3F95B619CB5B7919!s9a1510a4d7df4a9a96037169ae2c324a&cid=3f95b619cb5b7919&ithint=file%2Cdocx&redeem=aHR0cHM6Ly8xZHJ2Lm1zL3cvYy8zZjk1YjYxOWNiNWI3OTE5L0VhUVFGWnJmMTVwS2xnTnhhYTRzTWtvQkNzMDU5OTdON0NCTjA4U0ptRldXQUE&migratedtospo=true&wdo=2"
   ]
  },
  {
   "cell_type": "code",
   "execution_count": null,
   "id": "ffcebbc4-732b-4b44-a62b-275c5f97edb1",
   "metadata": {},
   "outputs": [],
   "source": [
    "#  above link for Q 1.1"
   ]
  },
  {
   "cell_type": "code",
   "execution_count": null,
   "id": "e66e0542-ab14-405e-a860-9e0bd0f5e7e7",
   "metadata": {},
   "outputs": [],
   "source": []
  },
  {
   "cell_type": "markdown",
   "id": "778a6516-9ddc-4cf2-9922-166b045baf83",
   "metadata": {},
   "source": [
    "#### Q 1.2 which of the following identifier names are invalid and why? \n",
    "#### a)serial no\n",
    "#### b) 1st_room \n",
    "#### c)Hundred$ \n",
    "#### d)Total_marks \n",
    "#### e)Total-marks \n",
    "#### f)Total marks \n",
    "#### g)True \n",
    "#### h)_Percentag"
   ]
  },
  {
   "cell_type": "markdown",
   "id": "f59ab478-1e31-47e0-8beb-6090da46ecee",
   "metadata": {},
   "source": [
    "### ANS :\n",
    "### discuss a invalid identifier and why:\n",
    "serial no - Invalid: Contains a space. Spaces are not allowed in identifier names.\n",
    "\n",
    "1st_room - Invalid: Starts with a digit. Identifiers must start with a letter or an underscore.\n",
    "\n",
    "Hundred$ - Invalid: Contains a special character $. Identifiers can only contain letters, digits, and underscores.\n",
    "\n",
    "Total-marks - Invalid: Contains a special character -. Identifiers can only contain letters, digits, and underscores.\n",
    "\n",
    "Total marks - Invalid: Contains a space. Spaces are not allowed in identifier names.\n",
    "\n",
    "True - Invalid in some languages: This is a reserved keyword in many languages (e.g., Python). \n",
    "       If you are using one of these languages, this is invalid.    "
   ]
  },
  {
   "cell_type": "code",
   "execution_count": null,
   "id": "cbf4a71d-da73-457f-9fe5-8982d93bd064",
   "metadata": {},
   "outputs": [],
   "source": []
  },
  {
   "cell_type": "code",
   "execution_count": null,
   "id": "0b43dd82-e971-43f2-8a3d-6b10ead9be94",
   "metadata": {},
   "outputs": [],
   "source": []
  },
  {
   "cell_type": "markdown",
   "id": "e8a1d7dd-934a-4fea-9573-8e3412eb1bcf",
   "metadata": {},
   "source": [
    "#### Q.1.4 Find the output of the following.\n",
    "#### animal = ['Human', 'cat' , 'mat','cat' , 'rat' , 'Human' , 'lion']\n",
    "#### print(animal.count('Human'))\n",
    "#### print(animal.index('rat'))\n",
    "#### print(len(animal))   "
   ]
  },
  {
   "cell_type": "code",
   "execution_count": 14,
   "id": "c2240d9b-7842-49a7-9e53-589352ed9de7",
   "metadata": {},
   "outputs": [
    {
     "name": "stdout",
     "output_type": "stream",
     "text": [
      "2\n",
      "4\n",
      "7\n"
     ]
    }
   ],
   "source": [
    "animal = ['Human', 'cat', 'mat', 'cat', 'rat', 'Human', 'lion']\n",
    "print(animal.count('Human'))  # Counts the occurrences of 'Human' in the list\n",
    "print(animal.index('rat'))    # Finds the index of 'rat' in the list\n",
    "print(len(animal))            # Calculates the length of the list\n"
   ]
  },
  {
   "cell_type": "code",
   "execution_count": null,
   "id": "09d3a434-b76a-42a1-a987-c4e7e659b2d6",
   "metadata": {},
   "outputs": [],
   "source": []
  },
  {
   "cell_type": "markdown",
   "id": "6b332f3a-1e77-4946-9747-2acee3f591ea",
   "metadata": {},
   "source": [
    "#### Q 1.5 tuple1=(10, 20 ,\"Apple\" , 3.4 ,'a',[\"master\", \"ji\"],(\"sita\",\"geeta\",22 ),[{\"roll_no:1\"},{\"name\":\"Navneet\"}])\n",
    "#### a)print(len(tuple1))\n",
    "#### b)print(tuple1[-1][-1][\"name\"])\n",
    "#### c)fetch the value of roll_no from this tuple\n",
    "#### d)print(tuple1[-3][1])\n",
    "#### e)fetch the element \"22\" from this tuple."
   ]
  },
  {
   "cell_type": "code",
   "execution_count": 15,
   "id": "a501f0a8-4ca7-42d4-8e1f-7fb314805b9d",
   "metadata": {},
   "outputs": [
    {
     "name": "stdout",
     "output_type": "stream",
     "text": [
      "8\n",
      "Navneet\n",
      "1\n",
      "ji\n"
     ]
    }
   ],
   "source": [
    "tuple1 = (10, 20, \"Apple\", 3.4, 'a', [\"master\", \"ji\"], (\"sita\", \"geeta\", 22), [{\"roll_no:1\"}, {\"name\": \"Navneet\"}])\n",
    "\n",
    "# a) Length of the tuple\n",
    "print(len(tuple1))  # 8\n",
    "\n",
    "# b) Fetching the value of \"name\"\n",
    "print(tuple1[-1][-1][\"name\"])  # Navneet\n",
    "\n",
    "# c) Fetching the value of \"roll_no\" (assuming it's correctly understood as 'roll_no:1')\n",
    "roll_no_key = list(tuple1[-1][0])[0]  # Access the first key from the set\n",
    "roll_no_value = roll_no_key.split(\":\")[1]  # Extract the value part after the colon\n",
    "print(roll_no_value)  # 1\n",
    "\n",
    "# d) Fetching \"geeta\"\n",
    "print(tuple1[-3][1])  # geeta\n",
    "\n"
   ]
  },
  {
   "cell_type": "code",
   "execution_count": null,
   "id": "3aa10cee-5dfe-4855-baf7-9b3cb09d2b8c",
   "metadata": {},
   "outputs": [],
   "source": []
  },
  {
   "cell_type": "markdown",
   "id": "34157001-5c5d-4383-9f69-90105cf92fa0",
   "metadata": {},
   "source": [
    "#### 1.6  Write a program to display the appropriate message as per the colour of signal(RED-Stop / YELLOW-stay /green-Go) at the road crossing."
   ]
  },
  {
   "cell_type": "code",
   "execution_count": 16,
   "id": "c6d22880-8073-407b-ae37-a7e1d2a03f03",
   "metadata": {},
   "outputs": [
    {
     "name": "stdin",
     "output_type": "stream",
     "text": [
      "Enter the color of the signal (RED, YELLOW, GREEN):  GREEN\n"
     ]
    },
    {
     "name": "stdout",
     "output_type": "stream",
     "text": [
      "Go\n"
     ]
    }
   ],
   "source": [
    "def traffic_signal(color):\n",
    "    if color.lower() == \"red\":\n",
    "        print(\"Stop\")\n",
    "    elif color.lower() == \"yellow\":\n",
    "        print(\"Stay\")\n",
    "    elif color.lower() == \"green\":\n",
    "        print(\"Go\")\n",
    "    else:\n",
    "        print(\"Invalid color. Please enter RED, YELLOW, or GREEN.\")\n",
    "\n",
    "color = input(\"Enter the color of the signal (RED, YELLOW, GREEN): \")\n",
    "traffic_signal(color)"
   ]
  },
  {
   "cell_type": "code",
   "execution_count": null,
   "id": "62ffec8a-2fe4-4be2-af62-bede239d63b0",
   "metadata": {},
   "outputs": [],
   "source": []
  },
  {
   "cell_type": "markdown",
   "id": "218b2f16-a4b7-4427-bc2e-0ceae1ee34be",
   "metadata": {},
   "source": [
    "#### 1.7 write a program to create a simple calculator performing only four basic operations(+,-,*,/)"
   ]
  },
  {
   "cell_type": "code",
   "execution_count": 23,
   "id": "88dd0144-376a-4513-8a0a-7156d37421f2",
   "metadata": {},
   "outputs": [
    {
     "name": "stdin",
     "output_type": "stream",
     "text": [
      "Enter the first number:  55\n",
      "Enter the second number:  2\n",
      "Enter the operator (+, -, *, /):  *\n"
     ]
    },
    {
     "name": "stdout",
     "output_type": "stream",
     "text": [
      "The result is: 110.0\n"
     ]
    }
   ],
   "source": [
    "def calculate(num1, num2, operator):\n",
    "    if operator == '+':\n",
    "        return num1 + num2\n",
    "    elif operator == '-':\n",
    "        return num1 - num2\n",
    "    elif operator == '*':\n",
    "        return num1 * num2\n",
    "    elif operator == '/':\n",
    "        return num1 / num2 if num2 != 0 else \"Error! Division by zero.\"\n",
    "    else:\n",
    "        return \"Invalid operator.\"\n",
    "\n",
    "try:\n",
    "    num1 = float(input(\"Enter the first number: \"))\n",
    "    num2 = float(input(\"Enter the second number: \"))\n",
    "    operator = input(\"Enter the operator (+, -, *, /): \")\n",
    "    print(\"The result is:\", calculate(num1, num2, operator))\n",
    "except ValueError:\n",
    "    print(\"Invalid input! Please enter numeric values for the numbers.\")\n"
   ]
  },
  {
   "cell_type": "code",
   "execution_count": null,
   "id": "37555f00-2b15-413d-9d59-7fd28b5208c6",
   "metadata": {},
   "outputs": [],
   "source": []
  },
  {
   "cell_type": "markdown",
   "id": "7e0607e8-d928-4fd9-8201-a24242eaa456",
   "metadata": {},
   "source": [
    "#### 1.8 write a program to find larger of the three pre-specified numbers using ternary operator."
   ]
  },
  {
   "cell_type": "code",
   "execution_count": 27,
   "id": "3032ed5c-7ca1-45e8-b3f4-1fc5420113d2",
   "metadata": {},
   "outputs": [
    {
     "name": "stdout",
     "output_type": "stream",
     "text": [
      "The largest number is: 3\n"
     ]
    }
   ],
   "source": [
    "num1 = 1\n",
    "num2 = 2\n",
    "num3 = 3\n",
    "\n",
    "# Find the largest number using nested ternary operators\n",
    "largest = num1 if (num1 > num2 and num1 > num3) else (num2 if num2 > num3 else num3)\n",
    "print(\"The largest number is:\", largest)"
   ]
  },
  {
   "cell_type": "code",
   "execution_count": null,
   "id": "636d2fa6-3c35-4b35-98f7-a199a9750050",
   "metadata": {},
   "outputs": [],
   "source": []
  },
  {
   "cell_type": "markdown",
   "id": "9094adb7-7e09-4d5e-bc73-4844fdad0502",
   "metadata": {},
   "source": [
    "#### 1.9 write a program to find the factors of whole number using a while loop."
   ]
  },
  {
   "cell_type": "code",
   "execution_count": 2,
   "id": "abbf634e-a77a-4c13-bce6-cb90cf6f2786",
   "metadata": {},
   "outputs": [
    {
     "name": "stdin",
     "output_type": "stream",
     "text": [
      "Enter a whole number:  10\n"
     ]
    },
    {
     "name": "stdout",
     "output_type": "stream",
     "text": [
      "Factors of 10 are:\n",
      "1\n",
      "2\n",
      "5\n",
      "10\n"
     ]
    }
   ],
   "source": [
    "number = int(input(\"Enter a whole number: \"))\n",
    "i = 1\n",
    "print(f\"Factors of {number} are:\")\n",
    "# Loop to find factors\n",
    "while i <= number:\n",
    "    if number % i == 0:\n",
    "        print(i)\n",
    "    i += 1"
   ]
  },
  {
   "cell_type": "code",
   "execution_count": null,
   "id": "6d950082-d19f-4ef3-bf24-4ea2f6ae55e4",
   "metadata": {},
   "outputs": [],
   "source": []
  },
  {
   "cell_type": "markdown",
   "id": "ce785b66-45aa-424f-8e81-2514c527345f",
   "metadata": {},
   "source": [
    "#### 1.10 write a program to find the sum of all positive numbers enter by user. as soon as the user enters a negative numbers , stop taking in any further input from the user and display the sum."
   ]
  },
  {
   "cell_type": "code",
   "execution_count": 6,
   "id": "c865fa92-e33c-4c06-b44c-af8d503b2c58",
   "metadata": {},
   "outputs": [
    {
     "name": "stdin",
     "output_type": "stream",
     "text": [
      "Enter a number (enter a negative number to stop):  4\n",
      "Enter a number (enter a negative number to stop):  6\n",
      "Enter a number (enter a negative number to stop):  5\n",
      "Enter a number (enter a negative number to stop):  -2\n"
     ]
    },
    {
     "name": "stdout",
     "output_type": "stream",
     "text": [
      "The sum of all positive numbers entered is: 15\n"
     ]
    }
   ],
   "source": [
    "total_sum = 0\n",
    "while True:\n",
    "    number = int(input(\"Enter a number (enter a negative number to stop): \"))\n",
    "    \n",
    "    if number < 0:\n",
    "        break  # Exit the loop if number is negative\n",
    "    \n",
    "    # Add positive number to sum\n",
    "    total_sum += number\n",
    "\n",
    "# Display the sum of positive numbers\n",
    "print(f\"The sum of all positive numbers entered is: {total_sum}\")"
   ]
  },
  {
   "cell_type": "code",
   "execution_count": null,
   "id": "20e9c90e-f087-4ff2-a3a9-71e911ffc6dd",
   "metadata": {},
   "outputs": [],
   "source": []
  },
  {
   "cell_type": "markdown",
   "id": "15a5f3e1-4df4-4463-9e96-e13cd7db4e88",
   "metadata": {},
   "source": [
    "#### 1.11 write a program to find the prime numbers between 2 to 200 using nested for loops."
   ]
  },
  {
   "cell_type": "code",
   "execution_count": 1,
   "id": "4cf55da9-cfc8-4f19-8f71-3c9d8e186c1e",
   "metadata": {},
   "outputs": [
    {
     "name": "stdout",
     "output_type": "stream",
     "text": [
      "Prime numbers between 2 and 100 are:\n",
      "[2, 3, 5, 7, 11, 13, 17, 19, 23, 29, 31, 37, 41, 43, 47, 53, 59, 61, 67, 71, 73, 79, 83, 89, 97]\n"
     ]
    }
   ],
   "source": [
    "prime_numbers = []\n",
    "\n",
    "for num in range(2, 101):\n",
    "    is_prime = True\n",
    "    # Check for factors from 2 to sqrt(num)\n",
    "    for i in range(2, int(num**0.5) + 1):\n",
    "        if num % i == 0:\n",
    "            is_prime = False\n",
    "            break\n",
    "    # If num is prime, add it to the list\n",
    "    if is_prime:\n",
    "        prime_numbers.append(num)\n",
    "\n",
    "# Print the prime numbers\n",
    "print(\"Prime numbers between 2 and 100 are:\")\n",
    "print(prime_numbers)"
   ]
  },
  {
   "cell_type": "code",
   "execution_count": null,
   "id": "5d914152-49b5-435d-9f6d-f43678877907",
   "metadata": {},
   "outputs": [],
   "source": []
  },
  {
   "cell_type": "code",
   "execution_count": null,
   "id": "033ceedb-3d8e-438a-84f2-f5a48a40cb3b",
   "metadata": {},
   "outputs": [],
   "source": []
  },
  {
   "cell_type": "markdown",
   "id": "dda7072a-7b9c-4f80-9395-e61eaa70723d",
   "metadata": {},
   "source": [
    "#### 2. Design and implement a Python program for managing student information using object-oriented\n",
    "#### principles. Create a class called `Student` with encapsulated attributes for name, age, and roll number.\n",
    "#### Implement getter and setter methods for these attributes. Additionally, provide methods to display student\n",
    "#### information and update student details.\n",
    "#### Tasks\n",
    "#### 1. Define the `Student` class with encapsulated attributes\n",
    "#### 2. Implement getter and setter methods for the attributes\n",
    "#### 3. Write methods to display student information and update details\n",
    "#### 4. Create instances of the `Student` class and test the implemented functionality"
   ]
  },
  {
   "cell_type": "code",
   "execution_count": 3,
   "id": "d821e014-3b7e-458d-82ed-320c5161876e",
   "metadata": {},
   "outputs": [
    {
     "name": "stdout",
     "output_type": "stream",
     "text": [
      "Name: ajay, Age: 21, Roll Number: 9912\n",
      "Name: vijay, Age: 23, Roll Number: 9955\n",
      "Name: ajaykumar, Age: 21, Roll Number: 9912\n",
      "Name: vijay, Age: 23, Roll Number: 9925\n"
     ]
    }
   ],
   "source": [
    "class Student:\n",
    "    def __init__(self, name, age, roll_number):\n",
    "        self.__name = name\n",
    "        self.__age = age\n",
    "        self.__roll_number = roll_number\n",
    "\n",
    "    def get_name(self): return self.__name\n",
    "    def set_name(self, name): self.__name = name\n",
    "    def get_age(self): return self.__age\n",
    "    def set_age(self, age): self.__age = age\n",
    "    def get_roll_number(self): return self.__roll_number\n",
    "    def set_roll_number(self, roll_number): self.__roll_number = roll_number\n",
    "\n",
    "    def display_info(self):\n",
    "        print(f\"Name: {self.__name}, Age: {self.__age}, Roll Number: {self.__roll_number}\")\n",
    "\n",
    "    def update_details(self, name=None, age=None, roll_number=None):\n",
    "        if name: self.set_name(name)\n",
    "        if age: self.set_age(age)\n",
    "        if roll_number: self.set_roll_number(roll_number)\n",
    "\n",
    "\n",
    "student1 = Student(\"ajay\", 21, \"9912\")\n",
    "student2 = Student(\"vijay\", 23, \"9955\")\n",
    "\n",
    "student1.display_info()\n",
    "student2.display_info()\n",
    "\n",
    "student1.update_details(name=\"ajaykumar\", age=21)\n",
    "student2.update_details(roll_number=\"9925\")\n",
    "\n",
    "student1.display_info()\n",
    "student2.display_info()"
   ]
  },
  {
   "cell_type": "code",
   "execution_count": null,
   "id": "7b04f529-a739-4956-90a9-ab3927c40f93",
   "metadata": {},
   "outputs": [],
   "source": []
  },
  {
   "cell_type": "markdown",
   "id": "3003b401-010a-4411-b52f-070cfb2d4116",
   "metadata": {},
   "source": [
    "#### 3.Develop a Python program for managing library resources efficiently. Design a class named `LibraryBook`\n",
    "#### with attributes like book name, author, and availability status. Implement methods for borrowing and\n",
    "#### returning books while ensuring proper encapsulation of attributes.\n",
    "#### Tasks\n",
    "#### 1. Create the `LibraryBook` class with encapsulated attributes\n",
    "#### 2. Implement methods for borrowing and returning books\n",
    "#### 3. Ensure proper encapsulation to protect book details\n",
    "#### 4. Test the borrowing and returning functionality with sample data."
   ]
  },
  {
   "cell_type": "code",
   "execution_count": 7,
   "id": "76aa2907-15b3-4f7d-be1c-0baba3b2df73",
   "metadata": {},
   "outputs": [
    {
     "name": "stdout",
     "output_type": "stream",
     "text": [
      "Book: 'The India Story, Author: Bimal Jalal, Status: Available\n",
      "Book: Listen to Your Heart: The London Adventure, Author: Ruskin Bond, Status: Available\n",
      "''The India Story' borrowed.\n",
      "Book: 'The India Story, Author: Bimal Jalal, Status: Unavailable\n",
      "''The India Story' is unavailable.\n",
      "''The India Story' returned.\n",
      "Book: 'The India Story, Author: Bimal Jalal, Status: Available\n",
      "'Listen to Your Heart: The London Adventure' borrowed.\n",
      "Book: Listen to Your Heart: The London Adventure, Author: Ruskin Bond, Status: Unavailable\n",
      "'Listen to Your Heart: The London Adventure' returned.\n",
      "Book: Listen to Your Heart: The London Adventure, Author: Ruskin Bond, Status: Available\n"
     ]
    }
   ],
   "source": [
    "class LibraryBook:\n",
    "    def __init__(self, book_name, author):\n",
    "        self.__book_name = book_name\n",
    "        self.__author = author\n",
    "        self.__is_available = True\n",
    "\n",
    "    def borrow_book(self):\n",
    "        if self.__is_available:\n",
    "            self.__is_available = False\n",
    "            print(f\"'{self.__book_name}' borrowed.\")\n",
    "        else:\n",
    "            print(f\"'{self.__book_name}' is unavailable.\")\n",
    "\n",
    "    def return_book(self):\n",
    "        if not self.__is_available:\n",
    "            self.__is_available = True\n",
    "            print(f\"'{self.__book_name}' returned.\")\n",
    "        else:\n",
    "            print(f\"'{self.__book_name}' was not borrowed.\")\n",
    "\n",
    "    def display_info(self):\n",
    "        status = \"Available\" if self.__is_available else \"Unavailable\"\n",
    "        print(f\"Book: {self.__book_name}, Author: {self.__author}, Status: {status}\")\n",
    "\n",
    "book1 = LibraryBook(\"'The India Story\",\t\"Bimal Jalal\")\n",
    "book2 = LibraryBook(\"Listen to Your Heart: The London Adventure\", \"Ruskin Bond\")\n",
    "\n",
    "book1.display_info()\n",
    "book2.display_info()\n",
    "\n",
    "book1.borrow_book()\n",
    "book1.display_info()\n",
    "book1.borrow_book()\n",
    "\n",
    "book1.return_book()\n",
    "book1.display_info()\n",
    "\n",
    "book2.borrow_book()\n",
    "book2.display_info()\n",
    "book2.return_book()\n",
    "book2.display_info()"
   ]
  },
  {
   "cell_type": "code",
   "execution_count": null,
   "id": "c9fb85bb-9c81-4ab1-be0e-0229ed7fbf54",
   "metadata": {},
   "outputs": [],
   "source": []
  },
  {
   "cell_type": "markdown",
   "id": "b4b252c5-8bba-4d0b-9c65-884b1e97b242",
   "metadata": {},
   "source": [
    "4.Create a simple banking system using object-oriented concepts in Python. Design classes representing\n",
    "different types of bank accounts such as savings and checking. Implement methods for deposit, withdraw,\n",
    "and balance inquiry. Utilize inheritance to manage different account types efficiently.\n",
    "Tasks\n",
    "1. Define base class(es) for bank accounts with common attributes and methods\n",
    "2. Implement subclasses for specific account types (e.g., SavingsAccount, CheckingAccount)\n",
    "3. Provide methods for deposit, withdraw, and balance inquiry in each subclass\n",
    "4. Test the banking system by creating instances of different account types and performing transactions."
   ]
  },
  {
   "cell_type": "code",
   "execution_count": 5,
   "id": "8ec01a35-f108-4ecb-98ff-a80ec15fa3f6",
   "metadata": {},
   "outputs": [
    {
     "name": "stdout",
     "output_type": "stream",
     "text": [
      "\n",
      "Savings Account Transactions:\n",
      "Account balance for Alice: $1500\n",
      "Account balance for Alice: $1300\n",
      "Interest added. New balance: $1313.0\n",
      "\n",
      "Checking Account Transactions:\n",
      "Account balance for Bob: $800\n",
      "Account balance for Bob: $100\n",
      "Account balance for Bob: $-100\n"
     ]
    }
   ],
   "source": [
    "class BankAccount:\n",
    "    def __init__(self, account_number, account_holder, balance=0):\n",
    "        self.account_number = account_number\n",
    "        self.account_holder = account_holder\n",
    "        self.balance = balance\n",
    "\n",
    "    def deposit(self, amount):\n",
    "        if amount > 0:\n",
    "            self.balance += amount\n",
    "        else:\n",
    "            print(\"Deposit amount must be positive.\")\n",
    "        self.inquire_balance()\n",
    "\n",
    "    def withdraw(self, amount):\n",
    "        if 0 < amount <= self.balance:\n",
    "            self.balance -= amount\n",
    "        else:\n",
    "            print(\"Insufficient funds or invalid amount.\")\n",
    "        self.inquire_balance()\n",
    "\n",
    "    def inquire_balance(self):\n",
    "        print(f\"Account balance for {self.account_holder}: ${self.balance}\")\n",
    "\n",
    "class SavingsAccount(BankAccount):\n",
    "    def __init__(self, account_number, account_holder, balance=0, interest_rate=0.01):\n",
    "        super().__init__(account_number, account_holder, balance)\n",
    "        self.interest_rate = interest_rate\n",
    "\n",
    "    def add_interest(self):\n",
    "        self.balance += self.balance * self.interest_rate\n",
    "        print(f\"Interest added. New balance: ${self.balance}\")\n",
    "\n",
    "class CheckingAccount(BankAccount):\n",
    "    def __init__(self, account_number, account_holder, balance=0, overdraft_limit=100):\n",
    "        super().__init__(account_number, account_holder, balance)\n",
    "        self.overdraft_limit = overdraft_limit\n",
    "\n",
    "    def withdraw(self, amount):\n",
    "        if 0 < amount <= self.balance + self.overdraft_limit:\n",
    "            self.balance -= amount\n",
    "        else:\n",
    "            print(\"Exceeded overdraft limit or invalid amount.\")\n",
    "        self.inquire_balance()\n",
    "# Test the banking system\n",
    "def test_banking_system():\n",
    "    savings = SavingsAccount(\"SA123\", \"Alice\", 1000)\n",
    "    checking = CheckingAccount(\"CA123\", \"Bob\", 500)\n",
    "\n",
    "    print(\"\\nSavings Account Transactions:\")\n",
    "    savings.deposit(500)\n",
    "    savings.withdraw(200)\n",
    "    savings.add_interest()\n",
    "\n",
    "    print(\"\\nChecking Account Transactions:\")\n",
    "    checking.deposit(300)\n",
    "    checking.withdraw(700)\n",
    "    checking.withdraw(200)\n",
    "test_banking_system()"
   ]
  },
  {
   "cell_type": "code",
   "execution_count": null,
   "id": "0756d046-a3e1-422b-9843-75b55f3042ba",
   "metadata": {},
   "outputs": [],
   "source": []
  },
  {
   "cell_type": "code",
   "execution_count": null,
   "id": "05fe79ea-a832-4caa-9264-7dc3ba06f60a",
   "metadata": {},
   "outputs": [],
   "source": []
  },
  {
   "cell_type": "markdown",
   "id": "f82471cb-216e-4837-869d-ed02d33e0722",
   "metadata": {},
   "source": [
    "5.Write a Python program that models different animals and their sounds. Design a base class called\n",
    "`Animal` with a method `make_sound()`. Create subclasses like `Dog` and `Cat` that override the\n",
    "`make_sound()` method to produce appropriate sounds.\n",
    "Tasks\n",
    " 1. Define the `Animal` class with a method `make_sound()`\n",
    " 2. Create subclasses `Dog` and `Cat` that override the `make_sound()` method\n",
    " 3. Implement the sound generation logic for each subclass\n",
    " 4. Test the program by creating instances of `Dog` and `Cat` and calling the `make_sound()` method."
   ]
  },
  {
   "cell_type": "code",
   "execution_count": 7,
   "id": "b84608d3-bf58-46fb-86ef-aded4a407752",
   "metadata": {},
   "outputs": [
    {
     "name": "stdout",
     "output_type": "stream",
     "text": [
      "Dog sound: bhoou bhoou!\n",
      "Cat sound: Meow!\n"
     ]
    }
   ],
   "source": [
    "class Animal:\n",
    "    def make_sound(self):\n",
    "        raise NotImplementedError(\"Subclasses must implement this method\")\n",
    "\n",
    "class Dog(Animal):\n",
    "    def make_sound(self):\n",
    "        return \"bhoou bhoou!\"\n",
    "\n",
    "class Cat(Animal):\n",
    "    def make_sound(self):\n",
    "        return \"Meow!\"\n",
    "\n",
    "# Test the program\n",
    "def test_animal_sounds():\n",
    "    dog = Dog()\n",
    "    cat = Cat()\n",
    "\n",
    "    print(f\"Dog sound: {dog.make_sound()}\")\n",
    "    print(f\"Cat sound: {cat.make_sound()}\")\n",
    "test_animal_sounds()"
   ]
  },
  {
   "cell_type": "code",
   "execution_count": null,
   "id": "0f9210e0-a57c-4d7a-a902-efadee6aa5d8",
   "metadata": {},
   "outputs": [],
   "source": []
  },
  {
   "cell_type": "markdown",
   "id": "f62b7097-e9c2-41c3-b23d-7e15b634f283",
   "metadata": {},
   "source": [
    "6.Write a code for Restaurant Management System Using OOPS\n",
    "& Create a MenuItem class that has attributes such as name, description, price, and category\n",
    "& Implement methods to add a new menu item, update menu item information, and remove a menu item\n",
    "from the menu\n",
    "& Use encapsulation to hide the menu item's unique identification number\n",
    "& Inherit from the MenuItem class to create a FoodItem class and a BeverageItem class, each with their own\n",
    "specific  attributes and methods."
   ]
  },
  {
   "cell_type": "code",
   "execution_count": 16,
   "id": "30560889-6abe-42d1-8f20-f956bcfdcf53",
   "metadata": {},
   "outputs": [
    {
     "name": "stdout",
     "output_type": "stream",
     "text": [
      "Biryani (Food): $150 - Mutton Biryani\n",
      "Kabab (Food): $50 - Hara Bhara Kabab\n",
      "\n",
      "Updating Menu:\n",
      "Biryani (Food): $200 - Mutton Biryani with extra spices\n",
      "Kabab (Food): $50 - Hara Bhara Kabab\n",
      "\n",
      "Removing an item from Menu:\n",
      "Biryani (Food): $200 - Mutton Biryani with extra spices\n"
     ]
    }
   ],
   "source": [
    "class MenuItem:\n",
    "    _id_counter = 1\n",
    "    def __init__(self, name, desc, price, category):\n",
    "        self.__id = MenuItem._id_counter\n",
    "        MenuItem._id_counter += 1\n",
    "        self.name, self.desc, self.price, self.category = name, desc, price, category\n",
    "\n",
    "    def get_id(self): return self.__id\n",
    "    def update_item(self, **kwargs): self.__dict__.update(kwargs)\n",
    "    def __str__(self): return f\"{self.name} ({self.category}): ${self.price} - {self.desc}\"\n",
    "\n",
    "class FoodItem(MenuItem):\n",
    "    def __init__(self, name, desc, price, cuisine_type):\n",
    "        super().__init__(name, desc, price, \"Food\")\n",
    "        self.cuisine_type = cuisine_type\n",
    "\n",
    "class BeverageItem(MenuItem):\n",
    "    def __init__(self, name, desc, price, beverage_type):\n",
    "        super().__init__(name, desc, price, \"Beverage\")\n",
    "        self.beverage_type = beverage_type\n",
    "\n",
    "class Restaurant:\n",
    "    def __init__(self): self.menu = []\n",
    "    def add_menu_item(self, item): self.menu.append(item)\n",
    "    def remove_menu_item(self, item_id): self.menu = [item for item in self.menu if item.get_id() != item_id]\n",
    "    def update_menu_item(self, item_id, **kwargs):\n",
    "        for item in self.menu:\n",
    "            if item.get_id() == item_id: item.update_item(**kwargs)\n",
    "    def show_menu(self): [print(item) for item in self.menu]\n",
    "\n",
    "# Test the Restaurant Management System\n",
    "restaurant = Restaurant()\n",
    "biryani = FoodItem(\"Biryani\", \"Mutton Biryani\", 150, \"Hyderabadi\")\n",
    "kabab = FoodItem(\"Kabab\", \"Hara Bhara Kabab\", 50, \"Roasted Kabab\")\n",
    "\n",
    "restaurant.add_menu_item(biryani)\n",
    "restaurant.add_menu_item(kabab)\n",
    "restaurant.show_menu()\n",
    "\n",
    "print(\"\\nUpdating Menu:\")\n",
    "restaurant.update_menu_item(biryani.get_id(), price=200, desc=\"Mutton Biryani with extra spices\")\n",
    "restaurant.show_menu()\n",
    "\n",
    "print(\"\\nRemoving an item from Menu:\")\n",
    "restaurant.remove_menu_item(kabab.get_id())\n",
    "restaurant.show_menu()\n"
   ]
  },
  {
   "cell_type": "code",
   "execution_count": null,
   "id": "549358ed-ca5f-49ac-bce0-15d654c0098c",
   "metadata": {},
   "outputs": [],
   "source": []
  },
  {
   "cell_type": "markdown",
   "id": "65255309-956a-4b4c-84f8-c4d4905715ca",
   "metadata": {},
   "source": [
    "7.Write a code for Hotel Management System using OOPS\n",
    "& Create a Room Class that has attributes such as room number, room type, rate, and availability (private)\n",
    "& Implement methods to book a room, check in a guest, and check out a guest\n",
    "& Use encapsulation to hide the room's unique identification number\n",
    "& Inherit from the Room class to create a SuiteRoom class and a StandardRoom class, each with their own\n",
    "specific attributes and methods."
   ]
  },
  {
   "cell_type": "code",
   "execution_count": 6,
   "id": "af296655-38ab-423a-a546-c7de20cd0b3c",
   "metadata": {},
   "outputs": [
    {
     "name": "stdout",
     "output_type": "stream",
     "text": [
      "Room 101 (Suite): $300/night - Available\n",
      "Room 102 (Standard): $100/night - Available\n",
      "\n",
      "Booking Room:\n",
      "Room 101 booked successfully.\n",
      "Room 101 (Suite): $300/night - Occupied\n",
      "Room 102 (Standard): $100/night - Available\n",
      "\n",
      "Checking In:\n",
      "Checked into Room 102.\n",
      "Room 101 (Suite): $300/night - Occupied\n",
      "Room 102 (Standard): $100/night - Occupied\n",
      "\n",
      "Checking Out:\n",
      "Checked out of Room 101.\n",
      "Checked out of Room 102.\n",
      "Room 101 (Suite): $300/night - Available\n",
      "Room 102 (Standard): $100/night - Available\n"
     ]
    }
   ],
   "source": [
    "class Room:\n",
    "    _id_counter = 1\n",
    "    \n",
    "    def __init__(self, room_number, room_type, rate):\n",
    "        self.__id = Room._id_counter\n",
    "        Room._id_counter += 1\n",
    "        self.room_number = room_number\n",
    "        self.room_type = room_type\n",
    "        self.rate = rate\n",
    "        self.__availability = True\n",
    "\n",
    "    def get_id(self): return self.__id\n",
    "    def is_available(self): return self.__availability\n",
    "    def book_room(self): self.__availability = False\n",
    "    def check_in(self): self.__availability = False\n",
    "    def check_out(self): self.__availability = True\n",
    "    def __str__(self): return f\"Room {self.room_number} ({self.room_type}): ${self.rate}/night - {'Available' if self.__availability else 'Occupied'}\"\n",
    "\n",
    "class SuiteRoom(Room):\n",
    "    def __init__(self, room_number, rate, additional_services):\n",
    "        super().__init__(room_number, \"Suite\", rate)\n",
    "        self.additional_services = additional_services\n",
    "\n",
    "class StandardRoom(Room):\n",
    "    def __init__(self, room_number, rate):\n",
    "        super().__init__(room_number, \"Standard\", rate)\n",
    "\n",
    "class Hotel:\n",
    "    def __init__(self):\n",
    "        self.rooms = []\n",
    "\n",
    "    def add_room(self, room):\n",
    "        self.rooms.append(room)\n",
    "\n",
    "    def find_room_by_id(self, room_id):\n",
    "        for room in self.rooms:\n",
    "            if room.get_id() == room_id:\n",
    "                return room\n",
    "        return None\n",
    "\n",
    "    def book_room(self, room_id):\n",
    "        room = self.find_room_by_id(room_id)\n",
    "        if room and room.is_available():\n",
    "            room.book_room()\n",
    "            print(f\"Room {room.room_number} booked successfully.\")\n",
    "        else:\n",
    "            print(f\"Room {room_id} not available or does not exist.\")\n",
    "\n",
    "    def check_in(self, room_id):\n",
    "        room = self.find_room_by_id(room_id)\n",
    "        if room and room.is_available():\n",
    "            room.check_in()\n",
    "            print(f\"Checked into Room {room.room_number}.\")\n",
    "        else:\n",
    "            print(f\"Room {room_id} not available or does not exist.\")\n",
    "\n",
    "    def check_out(self, room_id):\n",
    "        room = self.find_room_by_id(room_id)\n",
    "        if room and not room.is_available():\n",
    "            room.check_out()\n",
    "            print(f\"Checked out of Room {room.room_number}.\")\n",
    "        else:\n",
    "            print(f\"Room {room_id} not occupied or does not exist.\")\n",
    "\n",
    "    def show_rooms(self):\n",
    "        for room in self.rooms:\n",
    "            print(room)\n",
    "\n",
    "# Test the Hotel Management System\n",
    "hotel = Hotel()\n",
    "suite = SuiteRoom(101, 300, \"Spa, Pool\")\n",
    "standard = StandardRoom(102, 100)\n",
    "\n",
    "hotel.add_room(suite)\n",
    "hotel.add_room(standard)\n",
    "hotel.show_rooms()\n",
    "\n",
    "print(\"\\nBooking Room:\")\n",
    "hotel.book_room(suite.get_id())\n",
    "hotel.show_rooms()\n",
    "\n",
    "print(\"\\nChecking In:\")\n",
    "hotel.check_in(standard.get_id())\n",
    "hotel.show_rooms()\n",
    "\n",
    "print(\"\\nChecking Out:\")\n",
    "hotel.check_out(suite.get_id())  # should not check out as it's not checked in\n",
    "hotel.check_out(standard.get_id())\n",
    "hotel.show_rooms()\n"
   ]
  },
  {
   "cell_type": "code",
   "execution_count": null,
   "id": "3f2dd519-8fa0-4881-9190-113bef442844",
   "metadata": {},
   "outputs": [],
   "source": []
  },
  {
   "cell_type": "markdown",
   "id": "d8acf30d-cfc2-4813-bb84-49f7ce878b23",
   "metadata": {},
   "source": [
    "8.  Write a code for Fitness Club Management System using OOPS\n",
    "& Create a Member class that has attributes such as name, age, membership type, and membership status\n",
    "(private)\n",
    "& Implement methods to register a new member, renew a membership, and cancel a membership\n",
    "& Use encapsulation to hide the member's unique identification number\n",
    "& Inherit from the Member class to create a FamilyMember class and an IndividualMember class, each with\n",
    "their own specific attributes and methods"
   ]
  },
  {
   "cell_type": "code",
   "execution_count": 7,
   "id": "02c80106-78b7-4f9f-b879-8f82734093aa",
   "metadata": {},
   "outputs": [
    {
     "name": "stdout",
     "output_type": "stream",
     "text": [
      "Akanksha (Family): Active\n",
      "bhagat sir (Individual): Active\n",
      "\n",
      "Managing Membership:\n",
      "Member Akanksha registered.\n",
      "Member bhagat sir renewed.\n",
      "Member Akanksha canceled.\n",
      "Akanksha (Family): Cancelled\n",
      "bhagat sir (Individual): Active\n"
     ]
    }
   ],
   "source": [
    "class Member:\n",
    "    _id_counter = 1\n",
    "    \n",
    "    def __init__(self, name, age, membership_type):\n",
    "        self.__id = Member._id_counter\n",
    "        Member._id_counter += 1\n",
    "        self.name, self.age, self.membership_type = name, age, membership_type\n",
    "        self.__status = \"Active\"\n",
    "\n",
    "    def get_id(self): return self.__id\n",
    "    def get_status(self): return self.__status\n",
    "    def update_status(self, status): self.__status = status\n",
    "    def __str__(self): return f\"{self.name} ({self.membership_type}): {self.__status}\"\n",
    "\n",
    "class FamilyMember(Member):\n",
    "    def __init__(self, name, age, membership_type, family_size):\n",
    "        super().__init__(name, age, membership_type)\n",
    "        self.family_size = family_size\n",
    "\n",
    "class IndividualMember(Member):\n",
    "    def __init__(self, name, age, membership_type, trainer):\n",
    "        super().__init__(name, age, membership_type)\n",
    "        self.trainer = trainer\n",
    "\n",
    "class FitnessClub:\n",
    "    def __init__(self): self.members = []\n",
    "\n",
    "    def add_member(self, member): self.members.append(member)\n",
    "    def find_member(self, member_id): return next((m for m in self.members if m.get_id() == member_id), None)\n",
    "    def manage_membership(self, member_id, action):\n",
    "        member = self.find_member(member_id)\n",
    "        if member:\n",
    "            if action == 'register': member.update_status('Active')\n",
    "            elif action == 'renew': member.update_status('Active')\n",
    "            elif action == 'cancel': member.update_status('Cancelled')\n",
    "            print(f\"Member {member.name} {action}ed.\")\n",
    "        else: print(f\"Member {member_id} not found.\")\n",
    "    def show_members(self): print('\\n'.join(map(str, self.members)))\n",
    "\n",
    "# Test\n",
    "club = FitnessClub()\n",
    "club.add_member(FamilyMember(\"Akanksha\", 40, \"Family\", 4))\n",
    "club.add_member(IndividualMember(\"bhagat sir\", 30, \"Individual\", \"mina bhagat\"))\n",
    "club.show_members()\n",
    "\n",
    "print(\"\\nManaging Membership:\")\n",
    "club.manage_membership(1, 'register')\n",
    "club.manage_membership(2, 'renew')\n",
    "club.manage_membership(1, 'cancel')\n",
    "club.show_members()\n"
   ]
  },
  {
   "cell_type": "code",
   "execution_count": null,
   "id": "cb6fa613-8b52-4722-9f22-6b5fd266e07c",
   "metadata": {},
   "outputs": [],
   "source": []
  },
  {
   "cell_type": "markdown",
   "id": "6afdaf9e-e364-4ba4-9327-fda05332ba4d",
   "metadata": {},
   "source": [
    "9.Write a code for Event Management System using OOPS\n",
    "& Create an Event Class that has attributes such as name, date, time, location, and list of attendees (private)\n",
    "& Implement methods to create a new event, add or remove attendees, and get the total number of\n",
    "attendees\n",
    "& Use encapsulation to hide the event's unique identification number\n",
    "& Inherit from the Event class to create a PrivateEvent class and a PublicEvent class, each with their own\n",
    "specific attributes and methods."
   ]
  },
  {
   "cell_type": "code",
   "execution_count": 10,
   "id": "571bfe5b-be22-4045-a956-9c634f7a9a9d",
   "metadata": {},
   "outputs": [
    {
     "name": "stdout",
     "output_type": "stream",
     "text": [
      "Team Building on 2024-08-15 at 10:00 (Conference Room) - Attendees: 2\n",
      "Community Fair on 2024-08-20 at 14:00 (Main Street) - Attendees: 1\n",
      "\n",
      "Updating Events:\n",
      "Team Building on 2024-08-15 at 10:00 (Conference Room) - Attendees: 2\n",
      "Community Fair on 2024-08-20 at 14:00 (Main Street) - Attendees: 2\n"
     ]
    }
   ],
   "source": [
    "\n",
    "class Event:\n",
    "    _id_counter = 1\n",
    "    \n",
    "    def __init__(self, name, date, time, location):\n",
    "        self.__id = Event._id_counter\n",
    "        Event._id_counter += 1\n",
    "        self.name, self.date, self.time, self.location = name, date, time, location\n",
    "        self.__attendees = []\n",
    "\n",
    "    def get_id(self): return self.__id\n",
    "    def add_attendee(self, attendee): self.__attendees.append(attendee)\n",
    "    def remove_attendee(self, attendee): self.__attendees.remove(attendee) if attendee in self.__attendees else None\n",
    "    def get_total_attendees(self): return len(self.__attendees)\n",
    "    def __str__(self): return f\"{self.name} on {self.date} at {self.time} ({self.location}) - Attendees: {self.get_total_attendees()}\"\n",
    "\n",
    "class PrivateEvent(Event):\n",
    "    def __init__(self, name, date, time, location, invite_only):\n",
    "        super().__init__(name, date, time, location)\n",
    "        self.invite_only = invite_only\n",
    "\n",
    "class PublicEvent(Event):\n",
    "    def __init__(self, name, date, time, location, open_to_public):\n",
    "        super().__init__(name, date, time, location)\n",
    "        self.open_to_public = open_to_public\n",
    "\n",
    "class EventManager:\n",
    "    def __init__(self): self.events = []\n",
    "\n",
    "    def create_event(self, event): self.events.append(event)\n",
    "    def find_event_by_id(self, event_id): return next((e for e in self.events if e.get_id() == event_id), None)\n",
    "    def show_events(self): print('\\n'.join(map(str, self.events)))\n",
    "\n",
    "# Test\n",
    "manager = EventManager()\n",
    "manager.create_event(PrivateEvent(\"Team Building\", \"2024-08-15\", \"10:00\", \"Conference Room\", True))\n",
    "manager.create_event(PublicEvent(\"Community Fair\", \"2024-08-20\", \"14:00\", \"Main Street\", True))\n",
    "event1, event2 = manager.events\n",
    "\n",
    "event1.add_attendee(\"Allu\")\n",
    "event1.add_attendee(\"Baney\")\n",
    "event2.add_attendee(\"pushpa\")\n",
    "\n",
    "manager.show_events()\n",
    "print(\"\\nUpdating Events:\")\n",
    "event1.remove_attendee(\"kd\")\n",
    "event2.add_attendee(\"David\")\n",
    "manager.show_events()"
   ]
  },
  {
   "cell_type": "code",
   "execution_count": null,
   "id": "dc4c1d97-9e01-4d89-82b3-267021e9bad5",
   "metadata": {},
   "outputs": [],
   "source": []
  },
  {
   "cell_type": "markdown",
   "id": "74910463-66fb-4fc4-b6bf-057263e7750f",
   "metadata": {},
   "source": [
    "10.Write a code for Airline Reservation System using OOPS\n",
    "& Create a Flight Class that has attributes suCh as flight number, departure and arrival airports, departure and\n",
    "arrival times, and available seats (private)\n",
    "& Implement methods to book a seat, Cancel a reservation, and get the remaining available seats\n",
    "& Use encapsulation to hide the flight's unique identification number\n",
    "& Inherit from the Flight class to create a DomesticFlight class and an InternationalFlight class, each with their\n",
    "own specific attributes and methods."
   ]
  },
  {
   "cell_type": "code",
   "execution_count": 11,
   "id": "49e1492d-ffc5-4b17-8e4e-fa6bc2beaa87",
   "metadata": {},
   "outputs": [
    {
     "name": "stdout",
     "output_type": "stream",
     "text": [
      "DL123 (NYC to LA) - Seats: 100\n",
      "IL456 (NYC to LON) - Seats: 200\n",
      "DL123 (NYC to LA) - Seats: 99\n",
      "IL456 (NYC to LON) - Seats: 199\n",
      "DL123 (NYC to LA) - Seats: 100\n",
      "IL456 (NYC to LON) - Seats: 200\n"
     ]
    }
   ],
   "source": [
    "\n",
    "class Flight:\n",
    "    _id_counter = 1\n",
    "\n",
    "    def __init__(self, flight_number, dep_airport, arr_airport, dep_time, arr_time, seats):\n",
    "        self.__id = Flight._id_counter\n",
    "        Flight._id_counter += 1\n",
    "        self.flight_number = flight_number\n",
    "        self.dep_airport, self.arr_airport = dep_airport, arr_airport\n",
    "        self.dep_time, self.arr_time = dep_time, arr_time\n",
    "        self.__available_seats = seats\n",
    "\n",
    "    def get_id(self): return self.__id\n",
    "    def book_seat(self):\n",
    "        if self.__available_seats > 0:\n",
    "            self.__available_seats -= 1\n",
    "            return True\n",
    "        return False\n",
    "    def cancel_reservation(self): self.__available_seats += 1\n",
    "    def get_available_seats(self): return self.__available_seats\n",
    "    def __str__(self): return f\"{self.flight_number} ({self.dep_airport} to {self.arr_airport}) - Seats: {self.__available_seats}\"\n",
    "\n",
    "class DomesticFlight(Flight):\n",
    "    def __init__(self, flight_number, dep_airport, arr_airport, dep_time, arr_time, seats, state):\n",
    "        super().__init__(flight_number, dep_airport, arr_airport, dep_time, arr_time, seats)\n",
    "        self.state = state\n",
    "\n",
    "class InternationalFlight(Flight):\n",
    "    def __init__(self, flight_number, dep_airport, arr_airport, dep_time, arr_time, seats, country):\n",
    "        super().__init__(flight_number, dep_airport, arr_airport, dep_time, arr_time, seats)\n",
    "        self.country = country\n",
    "\n",
    "class ReservationSystem:\n",
    "    def __init__(self): self.flights = []\n",
    "\n",
    "    def add_flight(self, flight): self.flights.append(flight)\n",
    "    def show_flights(self): print('\\n'.join(map(str, self.flights)))\n",
    "\n",
    "# Test\n",
    "system = ReservationSystem()\n",
    "domestic = DomesticFlight(\"DL123\", \"NYC\", \"LA\", \"2024-08-01 08:00\", \"2024-08-01 11:00\", 100, \"NY\")\n",
    "international = InternationalFlight(\"IL456\", \"NYC\", \"LON\", \"2024-08-02 20:00\", \"2024-08-03 08:00\", 200, \"UK\")\n",
    "\n",
    "system.add_flight(domestic)\n",
    "system.add_flight(international)\n",
    "system.show_flights()\n",
    "\n",
    "domestic.book_seat()\n",
    "international.book_seat()\n",
    "system.show_flights()\n",
    "\n",
    "domestic.cancel_reservation()\n",
    "international.cancel_reservation()\n",
    "system.show_flights()\n"
   ]
  },
  {
   "cell_type": "code",
   "execution_count": null,
   "id": "fa2bc99b-0e39-45ea-8245-1bb54880c93e",
   "metadata": {},
   "outputs": [],
   "source": []
  },
  {
   "cell_type": "markdown",
   "id": "cf0e9502-0ac2-49ca-9c8c-3de7c353f4c8",
   "metadata": {},
   "source": [
    "Q 20. What do you mean by Measure of Central Tendency and Measures of Dispersion .How it can be\n",
    "calculated.\n",
    "\n"
   ]
  },
  {
   "cell_type": "markdown",
   "id": "858b6c92-67e9-468b-8003-3b69351bd769",
   "metadata": {},
   "source": [
    "1.What are Measures of Central Tendency : \n",
    "    \n",
    "Measures of Central Tendency are statistics that summarize a dataset by identifying a single central value that represents the entire dataset. They give an idea of the \"typical\" or \"average\" value.\n",
    "\n",
    "Mean: The sum of all data values divided by the number of values.\n",
    "Mean=∑X/n\n",
    "\n",
    "Median: The middle value when data is sorted in ascending or descending order. If there's an even number of values, it's the average of the two middle values.\n",
    "\n",
    "Mode: The value that appears most frequently in the dataset.\n",
    "\n",
    "\n",
    "\n",
    "2.Measures of Dispersion  : are statistics that describe the spread or variability of the dataset. They indicate how much the data values differ from the central tendency.\n",
    "\n",
    "Range: The difference between the maximum and minimum values.  Range=Max value−Min value\n",
    "\n",
    "Variance: The average of the squared differences from the mean.\n",
    "Variance= ∑(X−Mean)2 / n\n",
    "\n",
    "Standard Deviation: The square root of the variance, showing the average distance of each data point from the mean.\n",
    "\n",
    "Interquartile Range (IQR): The difference between the third quartile (Q3) and the first quartile (Q1), representing the range of the middle 50% of the data.\n",
    "\n",
    "IQR=Q3−Q1\n",
    "\n"
   ]
  },
  {
   "cell_type": "code",
   "execution_count": null,
   "id": "a92b5d85-ea51-48ad-9d7c-e89c01fb8325",
   "metadata": {},
   "outputs": [],
   "source": []
  },
  {
   "cell_type": "markdown",
   "id": "1569b584-6838-49e5-89b5-0dfcdc8d8120",
   "metadata": {},
   "source": [
    "Q 21. What do you mean by skewness.Explain its types.\n"
   ]
  },
  {
   "cell_type": "markdown",
   "id": "e2887451-9191-407d-8ec0-7add28505392",
   "metadata": {},
   "source": [
    "\n",
    "Skewness is a measure of asymmetry in a data distribution. It indicates whether the data points are spread out more on one side of the mean than the other. A perfectly symmetrical distribution has a skewness of zero, while distributions that are not symmetrical have positive or negative skewness.\n",
    "\n",
    "Types of Skewness :\n",
    "    \n",
    "1.Positive Skewness (Right Skewed):\n",
    "\n",
    "Definition: The right tail (higher values) is longer or fatter than the left tail. Most data values are on the left.\n",
    "\n",
    "Characteristics: Mean > Median > Mode.\n",
    "\n",
    "Example: Income distribution, where few people have high incomes.\n",
    "\n",
    "\n",
    "\n",
    "\n",
    "\n",
    "2.Negative Skewness (Left Skewed):\n",
    "\n",
    "Definition: The left tail (lower values) is longer or fatter than the right tail. Most data values are on the right.\n",
    "\n",
    "Characteristics: Mean < Median < Mode.\n",
    "\n",
    "Example: Age of retirement, with some retiring much earlier than most.\n",
    "\n",
    "\n",
    "\n",
    "\n",
    "\n",
    "3.Zero Skewness (Symmetrical Distribution):\n",
    "\n",
    "Definition: Distribution is perfectly symmetrical with no skewness.\n",
    "\n",
    "Characteristics: Mean = Median = Mode.\n",
    "\n",
    "Example: Normal distribution (bell curve).\n",
    "\n"
   ]
  },
  {
   "cell_type": "code",
   "execution_count": null,
   "id": "c476ce0b-2fa2-4bd3-bdc5-19bbfc91e60c",
   "metadata": {},
   "outputs": [],
   "source": []
  },
  {
   "cell_type": "markdown",
   "id": "d2601f36-5eee-48de-8925-bb183720d84d",
   "metadata": {},
   "source": [
    "Q 22. Explain PROBABILITY MASS FUNCTION (PMF) and PROBABILITY DENSITY FUNCTION (PDF). and what is the\n",
    "difference between them?"
   ]
  },
  {
   "cell_type": "markdown",
   "id": "ec7a9e53-d149-42c4-b887-1e35e6a7b76e",
   "metadata": {},
   "source": [
    "\n",
    "A Probability Mass Function (PMF) is used with discrete random variables. It gives the probability that a discrete random variable is exactly equal to a specific value.\n",
    "\n",
    "A Probability Density Function (PDF) is used with continuous random variables. It describes the likelihood of a random variable to take on a specific value by representing the density of the probability rather than the actual probability.\n",
    "\n",
    "\n",
    "\n",
    "Difference Between PMF and PDF : \n",
    "\n",
    "1.Type of Random Variable:\n",
    "    \n",
    "PMF: Used for discrete random variables (countable outcomes).\n",
    "\n",
    "PDF: Used for continuous random variables (uncountable outcomes).\n",
    "\n",
    "\n",
    "2.Nature of Values:\n",
    "\n",
    "PMF: Gives the actual probability for each specific value.\n",
    "\n",
    "PDF: Gives the probability density; the probability of any specific value is zero, but the probability over an interval can be calculated as the area under the curve.\n",
    "\n",
    "\n",
    "3.Sum vs. Integral:\n",
    "\n",
    "PMF: The sum of all probabilities for all possible values equals 1.\n",
    "\n",
    "PDF: The integral (area under the curve) of the PDF over all possible values equals 1.\n",
    "\n",
    "\n",
    "4.Visual Representation:\n",
    "    \n",
    "PMF: Represented as a set of discrete points on a graph.\n",
    "\n",
    "PDF: Represented as a continuous curve.\n",
    "\n"
   ]
  },
  {
   "cell_type": "code",
   "execution_count": null,
   "id": "1fafb3ca-a74e-4bf0-a6df-bd1a23518e17",
   "metadata": {},
   "outputs": [],
   "source": []
  },
  {
   "cell_type": "markdown",
   "id": "201c04e1-5ccd-4d83-93c2-1186f0605fe3",
   "metadata": {},
   "source": [
    "Q 23. What is correlation. Explain its type in details.what are the methods of determining correlation\n"
   ]
  },
  {
   "cell_type": "markdown",
   "id": "3b0ffc1a-2574-4f78-8853-4c8c3858496a",
   "metadata": {},
   "source": [
    "Correlation is a statistical measure that describes the strength and direction of the relationship between two variables. \n",
    "It helps to understand whether and how strongly pairs of variables are related. \n",
    "The correlation coefficient (usually denoted as r) ranges from -1 to +1:\n",
    "\n",
    "+1: Perfect positive correlation (variables move in the same direction).\n",
    "\n",
    "−1: Perfect negative correlation (variables move in opposite directions).\n",
    "\n",
    "Types of Correlation\n",
    "\n",
    "1. Positive vs. Negative Correlation:\n",
    "\n",
    "Positive Correlation: Both variables move in the same direction. Example: Height and weight.\n",
    "\n",
    "Negative Correlation: One variable increases while the other decreases. Example: Time spent exercising and body fat percentage.\n",
    "\n",
    "2.Linear vs. Non-linear (Curvilinear) Correlation:\n",
    "\n",
    "Linear Correlation: Variables have a straight-line relationship. Example: Distance and time at constant speed.\n",
    "\n",
    "Non-linear Correlation: Relationship between variables forms a curve. Example: Stress and performance (inverted U-shaped curve).\n",
    "\n",
    "3.Simple, Multiple, and Partial Correlation:\n",
    "\n",
    "Simple Correlation: Relationship between two variables only. Example: Temperature and ice cream sales.\n",
    "\n",
    "Multiple Correlation: Relationship between one variable and a set of other variables. Example: Income related to education and experience.\n",
    "\n",
    "Partial Correlation: Relationship between two variables while controlling for a third variable. \n",
    "Example: Job satisfaction and performance, controlling for age.\n",
    "\n",
    "Methods of Determining Correlation\n",
    "\n",
    "1.Pearson’s Correlation Coefficient : Measures the linear relationship between two continuous variables. Assumes normal distribution. Suitable for interval or ratio data.\n",
    "\n",
    "2.Spearman’s Rank Correlation Coefficient : Non-parametric measure that assesses the strength and direction of a monotonic relationship between ranked variables. Useful for ordinal data or non-linear relationships.\n",
    "\n",
    "3.Kendall’s Tau : Non-parametric measure for ordinal association, based on the number of concordant and discordant pairs. Robust for small sample sizes and tied ranks.\n",
    "\n",
    "4.Point-Biserial Correlation : Used when one variable is continuous and the other is binary (e.g., pass/fail). It is a special case of Pearson’s correlation.\n",
    "\n",
    "5.Phi Coefficient : Measures the association between two binary (dichotomous) variables. Ideal for 2x2 contingency tables."
   ]
  },
  {
   "cell_type": "code",
   "execution_count": null,
   "id": "bde5b8a9-b35f-4017-8a18-af0c67c60918",
   "metadata": {},
   "outputs": [],
   "source": []
  },
  {
   "cell_type": "markdown",
   "id": "267d66f0-6654-483b-9820-395741211f7e",
   "metadata": {},
   "source": [
    "Q 25. Discuss the 4 differences between correlation and regression.\n",
    "\n"
   ]
  },
  {
   "cell_type": "markdown",
   "id": "455d87a7-8f89-4d70-8f8f-7995642abf4f",
   "metadata": {},
   "source": [
    "\n",
    "1. Purpose:\n",
    "\n",
    "Correlation measures the strength and direction of a linear relationship between two variables.\n",
    "\n",
    "Regression predicts the value of one variable based on the value(s) of one or more other variables, establishing a cause-and-effect relationship.\n",
    "\n",
    "2.Nature of Relationship:\n",
    "\n",
    "Correlation is symmetrical, treating both variables equally and showing their mutual relationship.\n",
    "\n",
    "Regression is asymmetrical, distinguishing between independent (predictor) and dependent (outcome) variables.\n",
    "\n",
    "\n",
    "3.Mathematical Representation:\n",
    "\n",
    "Correlation provides a single correlation coefficient (r) ranging from -1 to 1.\n",
    "\n",
    "Regression provides an equation (e.g.,  Y=a+bX) showing how the dependent variable changes with the independent variable(s).\n",
    "\n",
    "\n",
    "4.Scope:\n",
    "Correlation only measures association without implying causation or prediction.\n",
    "\n",
    "Regression goes further to predict values and model the relationship, suggesting causation.\n",
    "\n"
   ]
  },
  {
   "cell_type": "code",
   "execution_count": null,
   "id": "13498066-8f21-42ef-b0cb-db32d6790abd",
   "metadata": {},
   "outputs": [],
   "source": []
  },
  {
   "cell_type": "markdown",
   "id": "240c8839-ac49-46d9-8ee0-418854fb78fa",
   "metadata": {},
   "source": [
    "Q 27. In a partially destroyed laboratory record of an analysis of correlation data, the following results only are\n",
    "legible: Variance of x = 9, Regression equations are: (i) 8x−10y = −66; (ii) 40x − 18y = 214.\n",
    "What are (a) the mean values of x and y, \n",
    "(b) the coefficient of correlation between x and y, \n",
    "(c) the σ of y.\n",
    "\n"
   ]
  },
  {
   "cell_type": "markdown",
   "id": "068de8e3-b1a8-4579-832c-e2b786d7ffb6",
   "metadata": {},
   "source": [
    "\n",
    "\n",
    "\n",
    "Variance of x: 𝜎𝑥2 = 9\n",
    "𝜎𝑥 = 3\n",
    "\n",
    "Equation (i): 8𝑥−10𝑦=−66\n",
    "Equation (ii): 40𝑥−18𝑦=214\n",
    "\n",
    "(a) Finding the Mean Values of x and 𝑦\n",
    "\n",
    "Rearranging Regression Equations to Find Means:\n",
    "From Equation (i): 8𝑥−10𝑦=−66 , Dividing by 10:\n",
    "    8x/10−y = −66/10 = 0.8x - y = −6.6\n",
    "    y = 0.8x + 6.6\n",
    "    \n",
    "From Equation (ii): 40x−18y=214 , Dividing by 18:\n",
    "    40x/18 -y = 214/18 = 20x/9 -y = 107/9 \n",
    "    y= 20x/9 - 107/9\n",
    "    \n",
    "Equating the two expressions for 𝑦\n",
    "0.8xˉ + 6.6 = 20xˉ/9-107/9\n",
    "To clear the fractions, multiply through by 9:\n",
    "    \n",
    "7.2xˉ + 59.4 = 20xˉ − 107\n",
    "\n",
    "Bringing all terms involving \n",
    "xˉ  to one side and constants to the other:\n",
    "    59.4+107=20xˉ − 7.2xˉ\n",
    "    \n",
    "    166.4=12.8xˉ , xˉ = 166.4/12.8 = 13\n",
    "\n",
    "    \n",
    "xˉ =13 , yˉ = 0.8(13)+6.6  , yˉ=10.4+6.6=17\n",
    "\n",
    "mean values are: 𝑥ˉ=13  and   𝑦ˉ=17\n",
    "Coefficient of correlation (r): 0.6\n",
    "Standard deviation of 𝑦(𝜎𝑦): 4\n",
    "\n",
    "\n"
   ]
  },
  {
   "cell_type": "code",
   "execution_count": null,
   "id": "62eddb2b-2f18-48d4-b5ab-a17b76cf0565",
   "metadata": {},
   "outputs": [],
   "source": []
  },
  {
   "cell_type": "markdown",
   "id": "9c7c218c-9196-4956-a518-e899bdb7a040",
   "metadata": {},
   "source": [
    "Q.28. What is Normal Distribution? What are the four Assumptions of Normal Distribution? Explain in detail.\n"
   ]
  },
  {
   "cell_type": "markdown",
   "id": "73d3e412-90a7-44f3-bdcd-37620457cc83",
   "metadata": {},
   "source": [
    "The Normal Distribution, also known as the Gaussian distribution or bell curve, is a continuous probability distribution that is\n",
    "symmetric around its mean. It is one of the most important probability distributions in statistics due to its natural occurrence \n",
    "in many real-world phenomena and its significant role in statistical theory.\n",
    "\n",
    "The normal distribution is a critical concept in statistics, representing many naturally occurring phenomena.\n",
    "To correctly apply statistical methods based on the normal distribution, it's essential to ensure the assumptions of linearity, \n",
    "independence, homoscedasticity, and normality are met. Understanding and checking these assumptions helps to draw accurate and \n",
    "reliable conclusions from data analysis.\n",
    "\n",
    "\n",
    "1. Linearity (or Additivity)\n",
    "\n",
    "Definition: The relationship between the independent and dependent variables should be linear. This means the combined effect of individual variables is additive and forms a straight-line relationship.\n",
    "Importance: Ensures that predictions and inferences made using the data are accurate.\n",
    "How to Check: Scatter plots or residual plots can show if the relationship is linear.\n",
    "\n",
    "2. Independence\n",
    "\n",
    "Definition: Observations should be independent of each other, meaning the outcome of one observation should not influence or be influenced by another.\n",
    "Importance: Ensures unbiased estimates and valid statistical conclusions.\n",
    "How to Check: Random sampling and tests like the Durbin-Watson test can check for independence.\n",
    "\n",
    "3. Homoscedasticity (Equal Variance)\n",
    "\n",
    "Definition: The variance of the residuals (errors) should be constant across all levels of the independent variables.\n",
    "Importance: Ensures the reliability of statistical tests and that the model performs uniformly across all data points.\n",
    "How to Check: Residual plots should show a random scatter with no pattern. The Breusch-Pagan test can formally test for equal variance.\n",
    "\n",
    "4. Normality\n",
    "\n",
    "Definition: The residuals (differences between observed and predicted values) should be normally distributed.\n",
    "Importance: Ensures the validity of p-values, confidence intervals, and other statistical inferences.\n",
    "How to Check: Use Q-Q plots, histograms, or formal tests like the Shapiro-Wilk test to assess normality.\n",
    "These assumptions are crucial for the proper application of statistical methods relying on the normal distribution to draw accurate and reliable conclusions from the data.\n",
    "\n"
   ]
  },
  {
   "cell_type": "code",
   "execution_count": null,
   "id": "45073999-dfec-43bf-9f09-0f7d2bc41a8d",
   "metadata": {},
   "outputs": [],
   "source": []
  },
  {
   "cell_type": "markdown",
   "id": "5c9647a0-ec28-48e3-b6c6-84586c40c486",
   "metadata": {},
   "source": [
    "Q.29.Write all the characteristics or Properties of the Normal Distribution Curve.\n"
   ]
  },
  {
   "cell_type": "markdown",
   "id": "0b22c6fb-de0a-4d63-80ff-445080e9a73a",
   "metadata": {},
   "source": [
    "ANS : \n",
    "Characteristics and properties of the Normal Distribution Curve \n",
    "\n",
    "1. Symmetry: The curve is symmetric around the mean, which means the left side is a mirror image of the right side.\n",
    "\n",
    "2. Bell-shaped Curve: The curve is bell-shaped, with a single peak at the mean.\n",
    "\n",
    "3. Mean, Median, and Mode: All three are equal and located at the center of the distribution.\n",
    "\n",
    "4. Asymptotic: The tails of the curve approach but never touch the horizontal axis, extending indefinitely.\n",
    "\n",
    "5. Total Area: The total area under the curve is equal to 1, representing 100% probability.\n",
    "\n",
    "6. Empirical Rule (68-95-99.7 Rule):\n",
    "\n",
    "About 68% of the data falls within ±1 standard deviation (σ) of the mean (μ).\n",
    "\n",
    "About 95% falls within ±2σ.\n",
    "\n",
    "About 99.7% falls within ±3σ.\n",
    "\n",
    "7. Unimodal: The distribution has only one peak (mode).\n",
    "\n",
    "8. No Skewness: The distribution has a skewness of zero due to symmetry.\n",
    "\n",
    "9. Mesokurtic: The normal distribution has a kurtosis of 3, indicating a moderate peak.\n",
    "\n",
    "10. Standard Normal Distribution: A normal distribution with a mean of 0 and a standard deviation of 1.\n",
    "\n",
    "11. Additivity: The sum of two independent normal variables is also normally distributed\n",
    "\n",
    "12. Infinite Range: The distribution ranges from negative infinity to positive infinity, although extreme values are rare.\n",
    "\n",
    "\n",
    "\n",
    "\n"
   ]
  },
  {
   "cell_type": "markdown",
   "id": "05735e04-70cd-4c1b-85d8-ccd5afc0bd03",
   "metadata": {},
   "source": []
  },
  {
   "cell_type": "markdown",
   "id": "654a79a4-fd41-4863-8285-88e91280c30e",
   "metadata": {},
   "source": [
    "Q 30.Which of the following options are correct about Normal Distribution Curve.\n",
    "(a) Within a range 0.6745 of σ on both sides the middle 50% of the observations occur i,e. mean ±0.6745σ\n",
    "covers 50% area 25% on each side.\n",
    "(b) Mean ±1S.D. (i,e.μ ± 1σ) covers 68.268% area, 34.134 % area lies on either side of the mean.\n",
    "(c) Mean ±2S.D. (i,e. μ ± 2σ) covers 95.45% area, 47.725% area lies on either side of the mean.\n",
    "(d) Mean ±3 S.D. (i,e. μ ±3σ) covers 99.73% area, 49.856% area lies on the either side of the mean.\n",
    "(e) Only 0.27% area is outside the range μ ±3σ."
   ]
  },
  {
   "cell_type": "markdown",
   "id": "da11fe58-8718-43b8-8bd7-f988644cd9c5",
   "metadata": {},
   "source": [
    "ANS :All the statements (a), (b), (c), (d), and (e) are correct based on the properties of the normal distribution:\n",
    "\n",
    "(a) Correct: Mean ± 0.6745σ covers 50% area.\n",
    "\n",
    "(b) Correct: Mean ± 1σ covers approximately 68.27% of the area.\n",
    "\n",
    "(c) Correct: Mean ± 2σ covers approximately 95.45% of the area.\n",
    "\n",
    "(d) Correct: Mean ± 3σ covers approximately 99.73% of the area.\n",
    "\n",
    "(e) Correct: Only 0.27% of the area is outside the range μ ± 3σ."
   ]
  },
  {
   "cell_type": "code",
   "execution_count": null,
   "id": "64a0143a-1cf9-49be-b911-cb0981716459",
   "metadata": {},
   "outputs": [],
   "source": []
  },
  {
   "cell_type": "markdown",
   "id": "3fd47fae-7998-498a-904e-703f5ec024a2",
   "metadata": {},
   "source": [
    "Q 31. The mean of a distribution is 60 with a standard deviation of 10. Assuming that the distribution is normal,\n",
    "what percentage of items be (i) between 60 and 72, (ii) between 50 and 60, (iii) beyond 72 and (iv) between\n",
    "70 and 80?"
   ]
  },
  {
   "cell_type": "markdown",
   "id": "cbffb8e4-396d-40d7-8cb7-b2c297d4e6b0",
   "metadata": {},
   "source": [
    "ANS :given that the distribution is normal with a mean (μ) of 60 and a standard deviation (σ) of 10,\n",
    "we can use the standard normal distribution (Z-scores) to find the required percentages.\n",
    "\n",
    "i) Percentage of items between 60 and 72\n",
    "Find the Z-scores for 60 and 72:\n",
    "\n",
    "For 60:\n",
    "𝑍 = 60−60/10 = 0\n",
    "\n",
    "For 72:\n",
    "𝑍 = 72−60 /10 = 1.2\n",
    "\n",
    "The area to the left of , z = 1.2 is approximately 0.8849.\n",
    "The percentage of items between 60 and 72 is:\n",
    "    0.8849−0.5=0.3849\n",
    "percentage: 0.3849×100=38.49%\n",
    "\n",
    "(ii) Percentage of items between 50 and 60\n",
    "For \n",
    "x=50 , z = 50−60/10 = −1\n",
    "For \n",
    "x=60 , z= 60−60/10 = 0\n",
    "\n",
    "\n",
    "tandard normal distribution table, we find\n",
    "The area to the left of \n",
    "z=−1 is approximately 0.1587.\n",
    "The area to the left of \n",
    "z=0 is 0.5.\n",
    "The percentage of items between 50 and 60 is:\n",
    "    0.5−0.1587=0.3413\n",
    "percentage: 0.3413×100 = 34.13%\n",
    "\n",
    "(iii) Percentage of items beyond 72\n",
    "The percentage of items beyond 72 is:  1−0.8849=0.1151\n",
    "percentage: 0.1151×100 = 11.51%\n",
    "\n",
    "(iv) Percentage of items between 70 and 80\n",
    "\n",
    "z= 70−60/10=1\n",
    "z= 80−60/10 = 2\n",
    "\n",
    "standard normal distribution table, we find:\n",
    "The area to the left of \n",
    "z=1 is approximately 0.8413.\n",
    "The area to the left of \n",
    "z=2 is approximately 0.9772.\n",
    "0.1359×100≈13.59%\n",
    "\n",
    "'''\n",
    "Percentage of items between 60 and 72: 38.49%\n",
    "\n",
    "Percentage of items between 50 and 60: 34.13%\n",
    "\n",
    "Percentage of items beyond 72: 11.51%\n",
    "\n",
    "Percentage of items between 70 and 80: 13.59%\n",
    "'''\n"
   ]
  },
  {
   "cell_type": "code",
   "execution_count": null,
   "id": "08cee556-be8c-4c64-bff9-836ca982268d",
   "metadata": {},
   "outputs": [],
   "source": []
  },
  {
   "cell_type": "markdown",
   "id": "090dd4c8-1d08-4976-8a96-47096fe93403",
   "metadata": {},
   "source": [
    " Q 32. 15000 students sat for an examination. The mean marks was 49 and the distribution of marks had a\n",
    "standard deviation of 6. Assuming that the marks were normally distributed what proportion of students\n",
    "scored (a) more than 55 marks, (b) more than 70 marks"
   ]
  },
  {
   "cell_type": "markdown",
   "id": "7000027c-d129-4ca1-b556-7844d2fe2a47",
   "metadata": {},
   "source": [
    "Mean (μ) = 49\n",
    "Standard deviation (σ) = 6\n",
    "\n",
    "a) Proportion of Students Who Scored More Than 55 Marks\n",
    "Find the Z-score for 55 marks:\n",
    "\n",
    "𝑍 = 55−49/6  ,6/6 = 1\n",
    "\n",
    "b) Proportion of Students Who Scored More Than 70 Marks\n",
    "Find the Z-score for 70 marks:\n",
    "𝑍=70−49/6  ,21/6=3.5\n",
    "\n",
    "Since there are 15,000 students:\n",
    "\n",
    "a) Number of students scoring more than 55 marks:\n",
    "\n",
    "0.1587×15000≈2381 students\n",
    "\n",
    "b) Number of students scoring more than 70 marks:\n",
    "\n",
    "0.0002×15000≈3 students\n",
    "So, approximately 2,381 students scored more than 55 marks, and about 3 students scored more than 70 marks."
   ]
  },
  {
   "cell_type": "code",
   "execution_count": null,
   "id": "3159d95c-4577-4dfa-8ad1-0653078a87f3",
   "metadata": {},
   "outputs": [],
   "source": []
  },
  {
   "cell_type": "markdown",
   "id": "15e14cf6-3ba3-48cc-85bd-b74b92162769",
   "metadata": {},
   "source": [
    "Q .33. If the height of 500 students are normally distributed with mean 65 inch and standard deviation 5 inch.\n",
    "How many students have height : a) greater than 70 inch. b) between 60 and 70 inch."
   ]
  },
  {
   "cell_type": "markdown",
   "id": "41c71c91-ead2-45b4-9829-ddea6e873112",
   "metadata": {},
   "source": [
    "Mean (μ) = 65 inches\n",
    "Standard deviation (σ) = 5 inches\n",
    "\n",
    "a) Number of Students with Height Greater Than 70 Inches\n",
    "Find the Z-score for 70 inches:\n",
    "\n",
    "𝑍 = 70−65/5 = 5/5 = 1\n",
    "\n",
    "P(X>70)=1−P(X≤70)=1−0.8413=0.1587\n",
    "\n",
    "0.1587×500=79.35=79 students ,\n",
    "\n",
    "b) Number of Students with Height Between 60 and 70 Inches\n",
    "Find the Z-score for 60 inches:\n",
    "\n",
    "𝑍=60−65/5 = −5/5 = −1\n",
    "\n",
    "P(60<X<70)=P(X<70)−P(X<60)\n",
    "P(60<X<70)=0.8413−0.1587=0.6826\n",
    "\n",
    "Number of students with height between 60 and 70 inches:\n",
    "\n",
    "0.6826 * 500 = 341.3 = 341\n",
    "\n",
    "a) Approximately 79 students have a height greater than 70 inches.\n",
    "b) Approximately 341 students have a height between 60 and 70 inches.\n",
    "\n"
   ]
  },
  {
   "cell_type": "code",
   "execution_count": null,
   "id": "c7813b90-72a9-42f5-afc4-124069659436",
   "metadata": {},
   "outputs": [],
   "source": []
  },
  {
   "cell_type": "markdown",
   "id": "9921ecaa-8b52-4595-a843-161c721cc43d",
   "metadata": {},
   "source": [
    "Q 34. What is the statistical hypothesis? Explain the errors in hypothesis testing.b)Explain the Sample. What\n",
    "are Large Samples & Small Samples?"
   ]
  },
  {
   "cell_type": "markdown",
   "id": "884d3402-79f2-499a-b50f-be14c72e0ad4",
   "metadata": {},
   "source": [
    "statistical hypothesis is an assumption or claim about a population parameter (such as a mean, proportion, or standard deviation) that can be tested using statistical methods.\n",
    "\n",
    "##### Errors in Hypothesis Testing\n",
    "\n",
    "Type I Error: Rejecting the null hypothesis (H0) when it is actually true. The probability of making this error is denoted by α (significance level, often 0.05).\n",
    "\n",
    "Type II Error: Failing to reject the null hypothesis (H0) when it is actually false. The probability of making this error is denoted by β.\n",
    "\n",
    "#### A sample is a subset of the population selected for analysis. It is used to make inferences about the entire population.\n",
    "\n",
    "Large Sample: Typically, a sample with size n>30. Large samples provide more reliable results due to reduced sampling error and allow for the use of normal distribution approximations.\n",
    "\n",
    "Small Sample: Typically, a sample with size n≤30. Small samples may not approximate a normal distribution well, requiring special methods (like the t-distribution) for accurate analysis.\n",
    "\n"
   ]
  },
  {
   "cell_type": "code",
   "execution_count": null,
   "id": "13c951a8-9f8f-4170-856a-fdd376eafb0c",
   "metadata": {},
   "outputs": [],
   "source": []
  },
  {
   "cell_type": "markdown",
   "id": "601b50b0-d1a3-42c6-be28-a7731e37276c",
   "metadata": {},
   "source": [
    "Q 35.A random sample of size 25 from a population gives the sample standard derivation to be 9.0. Test the\n",
    "hypothesis that the population standard derivation is 10.5.\n",
    "Hint(Use chi-square distribution)."
   ]
  },
  {
   "cell_type": "markdown",
   "id": "b758513e-9c00-4aa9-b8a4-041b1c9a5784",
   "metadata": {},
   "source": [
    "Null Hypothesis (H0) : The population standard deviation is 10.5, i.e., 𝜎=10.5\n",
    "\n",
    "Alternative Hypothesis (H1): The population standard deviation is not 10.5, i.e., 𝜎 ≠ 10.5\n",
    "\n",
    "n is the sample size.\n",
    "\n",
    "s is the sample standard deviation.\n",
    "\n",
    "σ is the hypothesized population standard deviation.\n",
    "\n",
    "Sample size (n) = 25\n",
    "Sample standard deviation (s) = 9.0\n",
    "Hypothesized population standard deviation (σ) = 10.5\n",
    "\n",
    "s2 = 81.0\n",
    "𝜎2 = 110.25\n",
    "\n",
    "chi-square test statistic : χ2 = 1944 / 110.25  = 17.63\n",
    "\n",
    "α=0.05 ,\n",
    "Left critical value : 𝜒left2 for df =24 at 𝛼/2 = 0.025 (lower tail) is approximately 13.848.\n",
    "\n",
    "Right critical value :  (𝜒2right) for df=24 at α/2=0.025 (upper tail) is approximately 36.415.\n",
    "\n",
    "Since \n",
    "13.848 < 17.63 < 36.415,  our test statistic falls within the range defined by the critical values.\n",
    "Therefore, we do not reject the null hypothesis at the \n",
    "α=0.05 significance level."
   ]
  },
  {
   "cell_type": "code",
   "execution_count": null,
   "id": "afc22d9d-85f5-4426-b5b6-a6b388b09788",
   "metadata": {},
   "outputs": [],
   "source": []
  },
  {
   "cell_type": "markdown",
   "id": "c5746568-bac2-4586-9240-1111f171fe63",
   "metadata": {},
   "source": [
    "### 37 .100 students of a PW IOI obtained the following grades in Data Science paper :\n",
    "Grade :[A, B, C, D, E]\n",
    "Total Frequency :[15, 17, 30, 22, 16, 100]\n",
    "Using the χ 2 test , examine the hypothesis that the distribution of grades is uniform."
   ]
  },
  {
   "cell_type": "code",
   "execution_count": 13,
   "id": "ebd9250f-1a86-4319-a1a8-f6683039ab0f",
   "metadata": {},
   "outputs": [
    {
     "data": {
      "text/plain": [
       "'\\n# Null Hypothesis (𝐻0): The distribution of grades is uniform.\\n# Alternative Hypothesis (𝐻1): The distribution of grades is not uniform.\\n\\n# Expected\\xa0Frequency = Total\\xa0Number\\xa0of\\xa0Students / num of grades = 100/5 = 20   So, the expected frequency for each grade (A, B, C, D, E) is 20.\\n\\n# Chi-Square Test Statistic: χ 2  = 7.7\\n\\n# Degrees of Freedom : df = Number\\xa0of\\xa0Categories − 1 = 5−1 = 4\\n\\n# usually 𝛼 = 0.05, χ2 calculated = 7.7   , χ2 critical = 9.488 ,since 7.7 < 9.488, we do not reject the null hypothesis.\\n\\n#not enough evidence to reject the null hypothesis at the 0.05 significance level. \\nTherefore, we conclude that the distribution of grades among the 100 students is consistent with a uniform distribution.\\n'"
      ]
     },
     "execution_count": 13,
     "metadata": {},
     "output_type": "execute_result"
    }
   ],
   "source": [
    "\n",
    "'''\n",
    "# Null Hypothesis (𝐻0): The distribution of grades is uniform.\n",
    "# Alternative Hypothesis (𝐻1): The distribution of grades is not uniform.\n",
    "\n",
    "# Expected Frequency = Total Number of Students / num of grades = 100/5 = 20   So, the expected frequency for each grade (A, B, C, D, E) is 20.\n",
    "\n",
    "# Chi-Square Test Statistic: χ 2  = 7.7\n",
    "\n",
    "# Degrees of Freedom : df = Number of Categories − 1 = 5−1 = 4\n",
    "\n",
    "# usually 𝛼 = 0.05, χ2 calculated = 7.7   , χ2 critical = 9.488 ,since 7.7 < 9.488, we do not reject the null hypothesis.\n",
    "\n",
    "#not enough evidence to reject the null hypothesis at the 0.05 significance level. \n",
    "Therefore, we conclude that the distribution of grades among the 100 students is consistent with a uniform distribution.\n",
    "'''"
   ]
  },
  {
   "cell_type": "code",
   "execution_count": null,
   "id": "1d804245-ba38-4e79-9d4f-fd18a61ae53c",
   "metadata": {},
   "outputs": [],
   "source": []
  },
  {
   "cell_type": "code",
   "execution_count": null,
   "id": "6f563b27-18bb-4cd1-81c4-335134ac3b31",
   "metadata": {},
   "outputs": [],
   "source": []
  },
  {
   "cell_type": "markdown",
   "id": "b1299ad6-5cf9-4278-a034-2c1b0bd56db4",
   "metadata": {},
   "source": [
    "### 39.How would you create a basic Flask route that displays \"Hello, World!\" on the homepage?"
   ]
  },
  {
   "cell_type": "markdown",
   "id": "57a0a858-6464-4dea-8c5a-6d6142315315",
   "metadata": {},
   "source": [
    "Flask Instance: The Flask instance (created with app = Flask(__name__)) serves as the central registry for the view functions, URL rules, and other configurations of your web application.\n",
    "\n",
    "Route Definition: The @app.route('/') decorator binds the URL '/' to the home() function. This means that when a user accesses the root URL of the application, the home() function is called.\n",
    "\n",
    "View Function: The home() function returns the string \"Hello, World!\", which is then sent to the user's web browser as the response.\n",
    "\n",
    "Starting the Server: The app.run(debug=True) line starts the Flask web server. The debug=True option enables the debug mode, which provides helpful error messages and automatically reloads the server when you make changes to the code."
   ]
  },
  {
   "cell_type": "code",
   "execution_count": null,
   "id": "43d2166d-3e29-419b-aaa5-f20dc0176d5a",
   "metadata": {},
   "outputs": [],
   "source": []
  },
  {
   "cell_type": "markdown",
   "id": "34e7387c-ef43-49aa-983e-ec715f1c7eb2",
   "metadata": {},
   "source": [
    "### 40.Explain how to set up a Flask application to handle form submissions using POST requests."
   ]
  },
  {
   "cell_type": "markdown",
   "id": "141a9b8e-e25d-4363-ba43-0981b785d9e0",
   "metadata": {},
   "source": [
    "Create a Flask application: Set up a basic Flask app using Flask(__name__).\n",
    "\n",
    "Create an HTML form: The form should use the POST method and have an action that matches the route handling the form submission.\n",
    "\n",
    "Render the form: Define a route that returns the HTML form, typically using render_template().\n",
    "\n",
    "Handle the POST request: Define another route to process the form data. Use the request.form object to access the submitted data.\n",
    "\n",
    "Run the application: Use app.run(debug=True) to start the Flask development server.\n",
    "\n",
    "By following these theoretical steps,  set up a Flask application to handle form submissions using POST requests. This approach is fundamental for building web applications that require user input and data processing."
   ]
  },
  {
   "cell_type": "code",
   "execution_count": null,
   "id": "208475c0-233e-4820-8051-5e7c492806bf",
   "metadata": {},
   "outputs": [],
   "source": []
  },
  {
   "cell_type": "markdown",
   "id": "6113da7f-6743-4671-af34-f7c5862513aa",
   "metadata": {},
   "source": [
    "### 43.Describe the process of connecting a Flask app to a SQLite database using SQLAlchemy."
   ]
  },
  {
   "cell_type": "markdown",
   "id": "d73aa98f-e3dc-407e-83bb-2df2e65faf95",
   "metadata": {},
   "source": [
    "Connecting a Flask app to a SQLite database using SQLAlchemy involves:\n",
    "\n",
    "Setting up Flask and SQLAlchemy: Install and configure Flask and SQLAlchemy.\n",
    "\n",
    "Defining Models: Create Python classes that map to database tables.\n",
    "\n",
    "Creating the Database: Generate the database and tables based on models.\n",
    "\n",
    "Interacting with the Database: Perform CRUD operations using SQLAlchemy’s ORM methods.\n",
    "\n",
    "Managing Sessions and Transactions: SQLAlchemy handles connections and transactions automatically.\n",
    "\n",
    "This setup provides a robust framework for integrating Flask applications with SQLite databases using SQLAlchemy, leveraging Python’s object-oriented capabilities for database management."
   ]
  },
  {
   "cell_type": "code",
   "execution_count": null,
   "id": "f9416765-9845-4485-8389-2c54e6c400ca",
   "metadata": {},
   "outputs": [],
   "source": []
  },
  {
   "cell_type": "markdown",
   "id": "9c06a4c7-3e5e-4e3f-b3fb-708a8f5567b9",
   "metadata": {},
   "source": [
    "### 44.How would you create a RESTful API endpoint in Flask that returns JSON data?"
   ]
  },
  {
   "cell_type": "markdown",
   "id": "2123f2d5-b937-4e2b-9c6c-93f12a9b694c",
   "metadata": {},
   "source": [
    "To create a RESTful API endpoint in Flask that returns JSON data:\n",
    "\n",
    "Initialize Flask: Create an instance of the Flask application.\n",
    "\n",
    "Define Routes: Use @app.route to define endpoints and methods.\n",
    "\n",
    "Handle Requests: Implement view functions to process requests and return JSON.\n",
    "\n",
    "Return JSON Data: Use jsonify to convert data to JSON format.\n",
    "\n",
    "Handle Status Codes: Return appropriate HTTP status codes based on request results.\n",
    "\n",
    "This process provides a basic framework for building RESTful APIs with Flask, allowing you to create endpoints that interact with clients using JSON."
   ]
  },
  {
   "cell_type": "code",
   "execution_count": null,
   "id": "2e66ea7a-9d13-43a3-8086-f378621bd1e8",
   "metadata": {},
   "outputs": [],
   "source": []
  },
  {
   "cell_type": "markdown",
   "id": "fa21f46c-d1b0-480f-85fc-43aa003c175f",
   "metadata": {},
   "source": [
    "### 45.Explain how to use Flask-WTF to create and validate forms in a Flask application."
   ]
  },
  {
   "cell_type": "markdown",
   "id": "8aa4f991-437d-4976-a65e-bf7a4d92533b",
   "metadata": {},
   "source": [
    "To use Flask-WTF for creating and validating forms in a Flask application:\n",
    "\n",
    "Install Flask-WTF and configure your Flask app with a secret key.\n",
    "\n",
    "Create Form Classes using Flask-WTF’s FlaskForm and define fields with validation rules.\n",
    "\n",
    "Use the Form in View Functions: Instantiate the form, handle validation, and process form data.\n",
    "\n",
    "Render the Form in Templates: Use Flask-WTF’s helper methods to render form fields and handle CSRF protection.\n",
    "\n",
    "Handle Validation Errors: Render any validation errors in your templates using Flask-WTF’s built-in mechanisms.\n",
    "\n",
    "This approach simplifies form handling and validation, integrates seamlessly with Flask’s routing and rendering systems, and ensures secure handling of form submissions."
   ]
  },
  {
   "cell_type": "code",
   "execution_count": null,
   "id": "94b8eef5-a1fb-4f82-b0fb-5fa2f3ed873e",
   "metadata": {},
   "outputs": [],
   "source": []
  },
  {
   "cell_type": "markdown",
   "id": "e0487f49-e0c1-4769-be80-c9e5031386b4",
   "metadata": {},
   "source": [
    "### 46.How can you implement file uploads in a Flask application?"
   ]
  },
  {
   "cell_type": "markdown",
   "id": "2146e86c-d51d-438a-8f4e-135cbf169029",
   "metadata": {},
   "source": [
    "To implement file uploads in a Flask application:\n",
    "\n",
    "Configure the Application : Set up the upload folder and optional file size limit.\n",
    "\n",
    "Create an HTML Form : Use multipart/form-data for file uploads.\n",
    "\n",
    "Handle File Uploads : Access uploaded files through request.files, validate, and save them.\n",
    "\n",
    "Secure Uploads : Use secure_filename to sanitize file names.\n",
    "\n",
    "Ensure Directory Exists : Create the upload directory if it doesn’t exist.\n",
    "\n",
    "Run the Application : Test the file upload functionality.\n",
    "\n",
    "This approach ensures that file uploads are handled securely and efficiently in your Flask application."
   ]
  },
  {
   "cell_type": "code",
   "execution_count": null,
   "id": "d5c04c42-4c15-4edd-b4ae-bd6a7b965ce3",
   "metadata": {},
   "outputs": [],
   "source": []
  },
  {
   "cell_type": "markdown",
   "id": "953ea8de-d092-4e55-a130-8b4a0a1386c6",
   "metadata": {},
   "source": [
    "### 47.Describe the steps to create a Flask blueprint and why you might use one."
   ]
  },
  {
   "cell_type": "markdown",
   "id": "b4052097-bb3f-43d0-b1d3-ded009b6227c",
   "metadata": {},
   "source": [
    "Steps to Create a Flask Blueprint\n",
    "\n",
    "1.Import Blueprint Class:\n",
    "Start by importing the Blueprint class from the flask module.\n",
    "\n",
    "2.Create a Blueprint Instance:\n",
    "Define a new instance of the Blueprint class. This involves giving the blueprint a name, specifying its import name (usually __name__), and optionally providing other parameters such as URL prefixes, template folders, and static folders.\n",
    "\n",
    "3.Define Routes:\n",
    "Use the blueprint instance to define routes and views. These routes work similarly to those defined directly on a Flask app instance.\n",
    "\n",
    "4.Register Blueprint with Flask App:\n",
    "In the main application file, create a Flask app instance and register the blueprint with this instance using the app.register_blueprint() method.\n",
    "\n",
    "5.Organize Your Application:\n",
    "Organize your project structure to reflect the separation of concerns facilitated by blueprints, typically involving separate directories and files for each blueprint's routes, templates, and static files.\n",
    "\n",
    "\n",
    "Why Use Flask Blueprints?\n",
    "\n",
    "1.Modularity:\n",
    "Blueprints allow you to divide your application into discrete, manageable components. This modularity makes it easier to understand, develop, and maintain different parts of the application independently.\n",
    "\n",
    "2.Separation of Concerns:\n",
    "By isolating different functionalities into separate blueprints, you maintain a clear separation of concerns, enhancing the organization and readability of your code.\n",
    "\n",
    "3.Reusability:\n",
    "Blueprints can be reused across different projects or different parts of the same project. This reuse saves development time and ensures consistency in functionality across projects.\n",
    "\n",
    "4.Collaborative Development:\n",
    "Multiple developers can work on different blueprints simultaneously without interfering with each other’s code. This parallel development accelerates the development process and reduces the likelihood of merge conflicts.\n",
    "\n",
    "5.Improved Maintainability:\n",
    "By keeping related routes and views together within a blueprint, it becomes easier to maintain and update specific parts of the application. This organization also simplifies debugging and testing.\n",
    "\n",
    "6.Enhanced Testing:\n",
    "Blueprints can be tested independently, allowing for more granular and effective testing. Isolated testing helps in quickly identifying and resolving issues within specific parts of the application.\n",
    "\n",
    "7.Scalability:\n",
    "As your application grows, blueprints make it easier to scale. You can add new features or modules as separate blueprints without disrupting existing functionality.\n",
    "\n",
    "8.Cleaner Codebase:\n",
    "Blueprints lead to a cleaner and more organized codebase by logically grouping related code. This organization aids in navigation and understanding of the code structure, especially in large applications."
   ]
  },
  {
   "cell_type": "code",
   "execution_count": null,
   "id": "ef11d622-39c6-4c1b-a176-db7c82f0a3b4",
   "metadata": {},
   "outputs": [],
   "source": []
  },
  {
   "cell_type": "markdown",
   "id": "d204de9d-e063-48e7-805f-720c3d08ac58",
   "metadata": {},
   "source": [
    "### 48.How would you deploy a Flask application to a production server using Gunicorn and Nginx?"
   ]
  },
  {
   "cell_type": "markdown",
   "id": "41272d6f-b833-4882-9c64-21d1d961b0e6",
   "metadata": {},
   "source": [
    "Prepare Flask App: Ensure it has a WSGI entry point.\n",
    "\n",
    "Set Up Server: Install and configure system packages.\n",
    "\n",
    "Set Up Flask App: Use a virtual environment and install dependencies.\n",
    "\n",
    "Configure Gunicorn: Create and test the Gunicorn service.\n",
    "\n",
    "Systemd Service: Create and enable a systemd service for Gunicorn.\n",
    "\n",
    "Configure Nginx: Create and enable an Nginx site configuration.\n",
    "\n",
    "Firewall: Adjust firewall settings to allow traffic.\n",
    "\n",
    "Verify: Ensure the application is accessible via the web.\n",
    "\n",
    "This setup provides a robust and scalable environment for your Flask application using Gunicorn and Nginx."
   ]
  },
  {
   "cell_type": "code",
   "execution_count": null,
   "id": "614da7de-438c-4f21-96eb-abff30a26846",
   "metadata": {},
   "outputs": [],
   "source": []
  },
  {
   "cell_type": "code",
   "execution_count": null,
   "id": "84570ebf-f44a-4840-9ba8-c47499c2fc51",
   "metadata": {},
   "outputs": [],
   "source": []
  },
  {
   "cell_type": "code",
   "execution_count": null,
   "id": "b467d1f2-add6-474f-bd9a-5b4a1e7fcd00",
   "metadata": {},
   "outputs": [],
   "source": []
  },
  {
   "cell_type": "code",
   "execution_count": null,
   "id": "a1d0c4ca-501d-49bf-a5cd-bbaab4f683c5",
   "metadata": {},
   "outputs": [],
   "source": []
  }
 ],
 "metadata": {
  "kernelspec": {
   "display_name": "Python 3 (ipykernel)",
   "language": "python",
   "name": "python3"
  },
  "language_info": {
   "codemirror_mode": {
    "name": "ipython",
    "version": 3
   },
   "file_extension": ".py",
   "mimetype": "text/x-python",
   "name": "python",
   "nbconvert_exporter": "python",
   "pygments_lexer": "ipython3",
   "version": "3.10.8"
  }
 },
 "nbformat": 4,
 "nbformat_minor": 5
}
